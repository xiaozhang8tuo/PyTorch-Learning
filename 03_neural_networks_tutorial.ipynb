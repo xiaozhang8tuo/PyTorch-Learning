{
 "cells": [
  {
   "cell_type": "code",
   "execution_count": null,
   "metadata": {},
   "outputs": [],
   "source": [
    "%matplotlib inline"
   ]
  },
  {
   "attachments": {
    "image.png": {
     "image/png": "[encoded data removed]"
    }
   },
   "cell_type": "markdown",
   "metadata": {},
   "source": [
    "\n",
    "Neural Networks\n",
    "===============\n",
    "\n",
    "神经网络可以用 ``torch.nn`` 包构建.\n",
    "\n",
    "之前说过 ``autograd``, ``nn`` 依赖于\n",
    "``autograd`` 来定义模型并微分它们.<br>\n",
    "一个 ``nn.Module`` 含有层(layers), 以及方法： ``forward(input)``\\ 来产生 ``output``.<br>\n",
    "\n",
    "例如，看看这个对数字图像进行分类的网络:\n",
    "![image.png](attachment:image.png)\n",
    "\n",
    "\n",
    "它是一个简单的前馈网络。它接受输入，一个接一个地通过几个层为其提供数据，最后给出输出。\n",
    "\n",
    "神经网络的典型训练过程如下:\n",
    "\n",
    "- 定义具有一些可学习参数的神经网络(或权重)\n",
    "- 遍历输入数据集\n",
    "- 通过神经网络处理模型输入\n",
    "- 计算损失LOSS(输出距离期望有多远)\n",
    "- Propagate gradients back into the network’s parameters\n",
    "- Update the weights of the network, typically using a simple update rule:\n",
    "  ``weight = weight - learning_rate * gradient``\n",
    "\n",
    "Define the network\n",
    "------------------\n",
    "\n",
    "开打！！\n",
    "\n"
   ]
  },
  {
   "cell_type": "markdown",
   "metadata": {},
   "source": [
    "--[为什么这么搭前向网络](https://blog.csdn.net/qq_37942706/article/details/83302688)"
   ]
  },
  {
   "cell_type": "code",
   "execution_count": 15,
   "metadata": {
    "scrolled": true
   },
   "outputs": [
    {
     "name": "stdout",
     "output_type": "stream",
     "text": [
      "Net(\n",
      "  (conv1): Conv2d(1, 6, kernel_size=(5, 5), stride=(1, 1))\n",
      "  (conv2): Conv2d(6, 16, kernel_size=(5, 5), stride=(1, 1))\n",
      "  (fc1): Linear(in_features=400, out_features=120, bias=True)\n",
      "  (fc2): Linear(in_features=120, out_features=84, bias=True)\n",
      "  (fc3): Linear(in_features=84, out_features=10, bias=True)\n",
      ")\n"
     ]
    }
   ],
   "source": [
    "import torch\n",
    "import torch.nn as nn\n",
    "import torch.nn.functional as F\n",
    "\n",
    "\n",
    "class Net(nn.Module):\n",
    "\n",
    "    def __init__(self):\n",
    "        super(Net, self).__init__()\n",
    "        # 1 input image channel, 6 output channels, 5x5 square convolution\n",
    "        # 1输入图像通道，6输出通道，5x5平方卷积\n",
    "        # kernel\n",
    "        self.conv1 = nn.Conv2d(1, 6, 5)        #对应图C1 6 28 28\n",
    "        self.conv2 = nn.Conv2d(6, 16, 5)       #对应图C3 16 10 10\n",
    "        # an affine operation: y = Wx + b\n",
    "        self.fc1 = nn.Linear(16 * 5 * 5, 120)  #对应图C5 全连接层\n",
    "        self.fc2 = nn.Linear(120, 84)          #对应图F6\n",
    "        self.fc3 = nn.Linear(84, 10)           #对应图c7\n",
    "\n",
    "    def forward(self, x):\n",
    "        # Max pooling over a (2, 2) window\n",
    "        x = F.max_pool2d(F.relu(self.conv1(x)),(2, 2))#降采样，卷积第一层的输出=pool层(经过relu函数激活(第一层F.(的输入)),(2,2)的pooling窗口--S2)\n",
    "        # If the size is a square you can only specify a single number\n",
    "        x = F.max_pool2d(F.relu(self.conv2(x)), 2)   #降采样，卷积第二层的输出=pool层(经过relu函数激活(第二层F.(的输入)),(2,2)的pooling窗口--S4)\n",
    "        x = x.view(-1, self.num_flat_features(x))    #线性层和卷积层之间的承接  将矩阵重塑成向量传入\n",
    "        x = F.relu(self.fc1(x)) #      第一层的输出=经过relu函数激活(第一层F.(的输入))\n",
    "        x = F.relu(self.fc2(x)) #      第二层的输出=经过relu函数激活(第二层F.(的输入))\n",
    "        x = self.fc3(x)         #      第三层的输出=(第三层F.(的输入))\n",
    "        return x\n",
    "\n",
    "    def num_flat_features(self, x):\n",
    "        size = x.size()[1:]  # all dimensions except the batch dimension\n",
    "        num_features = 1\n",
    "        for s in size:\n",
    "            num_features *= s\n",
    "        return num_features\n",
    "\n",
    "\n",
    "net = Net()\n",
    "print(net)"
   ]
  },
  {
   "cell_type": "markdown",
   "metadata": {},
   "source": [
    "你只需要定义 ``forward`` 函数, 反向传播 ``backward``<br>\n",
    "函数 (用来计算梯度) 被自动定义只要你使用``autograd``.<br>\n",
    "你可以用任意张量运算在 ``forward`` function.<br>\n",
    "\n",
    "模型的可学习参数由 ``net.parameters()``返回<br>\n",
    "\n"
   ]
  },
  {
   "cell_type": "code",
   "execution_count": 3,
   "metadata": {},
   "outputs": [
    {
     "name": "stdout",
     "output_type": "stream",
     "text": [
      "10\n",
      "torch.Size([6, 1, 5, 5])\n"
     ]
    }
   ],
   "source": [
    "params = list(net.parameters())\n",
    "print(len(params))\n",
    "print(params[0].size())  # 卷积层1的参数size"
   ]
  },
  {
   "cell_type": "markdown",
   "metadata": {},
   "source": [
    "让我们试一个随机的 **32x32** input.<br>\n",
    "Note: 这个网络(LeNet)的预期输入大小为32x32. 用这个网<br>\n",
    "MNIST数据集，请将数据集中的图像大小调整为32x32.<br>\n",
    "\n"
   ]
  },
  {
   "cell_type": "code",
   "execution_count": 6,
   "metadata": {},
   "outputs": [
    {
     "name": "stdout",
     "output_type": "stream",
     "text": [
      "tensor([[-0.0026,  0.0971,  0.0745,  0.0070,  0.0055,  0.0213,  0.0418,  0.0082,\n",
      "         -0.0330, -0.0023]], grad_fn=<AddmmBackward>)\n"
     ]
    }
   ],
   "source": [
    "input = torch.randn(1, 1, 32, 32)\n",
    "out = net(input)\n",
    "print(out)"
   ]
  },
  {
   "cell_type": "markdown",
   "metadata": {},
   "source": [
    "清零： 梯度缓存 of 所有参数 and 反向传播的随机梯度:\n",
    "\n"
   ]
  },
  {
   "cell_type": "code",
   "execution_count": 7,
   "metadata": {},
   "outputs": [],
   "source": [
    "net.zero_grad()\n",
    "out.backward(torch.randn(1, 10))"
   ]
  },
  {
   "cell_type": "markdown",
   "metadata": {},
   "source": [
    "<div class=\"alert alert-info\"><h4>Note</h4><p>``torch.nn`` 只支持小批量样本. The entire ``torch.nn``\n",
    "    package 只支持一小批样品，而不是一个样品.\n",
    "\n",
    "    例如, ``nn.Conv2d`` 会接受 a 4维度\n",
    "    ``nSamples x nChannels x Height x Width``.形式的张量\n",
    "\n",
    "    如果只有一个样本, just use ``input.unsqueeze(0)`` to add\n",
    "    a fake batch dimension."
   ]
  },
  {
   "cell_type": "markdown",
   "metadata": {},
   "source": [
    "在继续之前，让我们先回顾一下到目前为止所见过的所有类.\n",
    "\n",
    "**Recap:**\n",
    "  -  ``torch.Tensor`` - A *multi-dimensional array* with support for autograd\n",
    "     operations like ``backward()``. Also *holds the gradient* w.r.t. the\n",
    "     tensor.\n",
    "  -  ``nn.Module`` - Neural network module. *Convenient way of\n",
    "     encapsulating parameters*, with helpers for moving them to GPU,\n",
    "     exporting, loading, etc.\n",
    "  -  ``nn.Parameter`` - A kind of Tensor, that is *automatically\n",
    "     registered as a parameter when assigned as an attribute to a*\n",
    "     ``Module``.\n",
    "  -  ``autograd.Function`` - Implements *forward and backward definitions\n",
    "     of an autograd operation*. Every ``Tensor`` operation creates at\n",
    "     least a single ``Function`` node that connects to functions that\n",
    "     created a ``Tensor`` and *encodes its history*.\n",
    "\n",
    "**至此，我们已经讨论过了:**\n",
    "  -  定义神经网络\n",
    "  -  前向反向传播\n",
    "\n",
    "**还剩下:**\n",
    "  -  计算loss\n",
    "  -  更新网络的权重\n",
    "\n",
    "Loss Function\n",
    "-------------\n",
    "损失函数接受(输出、目标)输入对，并计算一个值，该值估计输出与目标的差距。\n",
    "\n",
    "有几个不同的\n",
    "\n",
    "-[loss functions](https://pytorch.org/docs/nn.html#loss-functions) under the\n",
    "nn package .\n",
    "一个简单的loss: ``nn.MSELoss`` 计算输入和目标之间的均方误差.\n",
    "\n",
    "For example:\n",
    "\n"
   ]
  },
  {
   "cell_type": "code",
   "execution_count": 8,
   "metadata": {},
   "outputs": [
    {
     "name": "stdout",
     "output_type": "stream",
     "text": [
      "tensor(0.4534, grad_fn=<MseLossBackward>)\n"
     ]
    }
   ],
   "source": [
    "output = net(input)\n",
    "target = torch.randn(10)  # a dummy target, for example\n",
    "target = target.view(1, -1)  # make it the same shape as output\n",
    "criterion = nn.MSELoss()\n",
    "\n",
    "loss = criterion(output, target)\n",
    "print(loss)"
   ]
  },
  {
   "attachments": {
    "image.png": {
     "image/png": "[encoded data removed]"
    }
   },
   "cell_type": "markdown",
   "metadata": {},
   "source": [
    "Now, if you follow ``loss`` in the backward direction, using its\n",
    "``.grad_fn`` attribute, you will see a graph of computations that looks\n",
    "like this:\n",
    "![image.png](attachment:image.png)\n",
    "\n",
    "所以，当我们调用 ``loss.backward()``, 整个图都会求对于loss的微分,图中所有 ``requires_grad=True``要求被记录梯度的张量\n",
    "将会把她们所得的梯度累加到 ``.grad`` Tensor 这个属性中.\n",
    "\n",
    "For illustration, let us follow a few steps backward:\n",
    "\n"
   ]
  },
  {
   "cell_type": "code",
   "execution_count": 9,
   "metadata": {
    "collapsed": true
   },
   "outputs": [
    {
     "name": "stdout",
     "output_type": "stream",
     "text": [
      "<MseLossBackward object at 0x000001C29B8398D0>\n",
      "<AddmmBackward object at 0x000001C29B8399B0>\n",
      "<AccumulateGrad object at 0x000001C29B8398D0>\n"
     ]
    }
   ],
   "source": [
    "print(loss.grad_fn)  # MSELoss\n",
    "print(loss.grad_fn.next_functions[0][0])  # Linear\n",
    "print(loss.grad_fn.next_functions[0][0].next_functions[0][0])  # ReLU"
   ]
  },
  {
   "cell_type": "markdown",
   "metadata": {},
   "source": [
    "Backprop\n",
    "--------\n",
    "要反向传播这个误差，我们所要做的就是 ``loss.backward()``.<br>\n",
    "不过，您需要清除现有的梯度，否则梯度将累积为现有梯度。<br>\n",
    "\n",
    "\n",
    "再次调用 ``loss.backward()``, 看一看卷积层 conv1传播前后的梯度.\n",
    "\n"
   ]
  },
  {
   "cell_type": "code",
   "execution_count": 10,
   "metadata": {},
   "outputs": [
    {
     "name": "stdout",
     "output_type": "stream",
     "text": [
      "conv1.bias.grad before backward\n",
      "tensor([0., 0., 0., 0., 0., 0.])\n",
      "conv1.bias.grad after backward\n",
      "tensor([ 0.0101, -0.0056,  0.0034, -0.0023, -0.0032, -0.0034])\n"
     ]
    }
   ],
   "source": [
    "net.zero_grad()     # zeroes the gradient buffers of all parameters\n",
    "\n",
    "print('conv1.bias.grad before backward')\n",
    "print(net.conv1.bias.grad)\n",
    "\n",
    "loss.backward()\n",
    "\n",
    "print('conv1.bias.grad after backward')\n",
    "print(net.conv1.bias.grad)"
   ]
  },
  {
   "cell_type": "markdown",
   "metadata": {},
   "source": [
    "现在，我们已经学习了如何使用损失函数。\n",
    "\n",
    "**稍后阅读:**\n",
    "\n",
    "  神经网络包 nn 包含各种模块和损失函数<br>\n",
    "  形成了深层神经网络的基石. <br>\n",
    "   `here <https://pytorch.org/docs/nn>`_.--[nn.的文档](https://pytorch.org/docs/nn)\n",
    "\n",
    "**唯一还未学习的是:**\n",
    "\n",
    "  - 更新网络的权重\n",
    "\n",
    "Update the weights\n",
    "------------------\n",
    "在实践中使用的最简单的更新规则是随机梯度\n",
    "下降 the Stochastic Gradient\n",
    "Descent (SGD):\n",
    "\n",
    "     ``weight = weight - learning_rate * gradient``\n",
    "\n",
    "我们可以使用简单的python代码实现这一点:\n",
    "\n",
    "\n",
    "\n",
    "    learning_rate = 0.01\n",
    "    for f in net.parameters():\n",
    "        f.data.sub_(f.grad.data * learning_rate)\n",
    "\n",
    "然而，当你使用神经网络时，你想要使用各种不同的<br>\n",
    "\n",
    "更新规则，如SGD、Nesterov-SGD、Adam、RMSProp等<br>\n",
    "\n",
    "为了实现这一点，我们构建了一个小包 : **torch.optim**<br>\n",
    "\n",
    "那是对所有这些方法的补充。使用它很简单:\n",
    "<br>\n"
   ]
  },
  {
   "cell_type": "code",
   "execution_count": 11,
   "metadata": {},
   "outputs": [],
   "source": [
    "import torch.optim as optim\n",
    "\n",
    "# create your optimizer\n",
    "optimizer = optim.SGD(net.parameters(), lr=0.01)\n",
    "\n",
    "# in your training loop:\n",
    "optimizer.zero_grad()   # zero the gradient buffers\n",
    "output = net(input)\n",
    "loss = criterion(output, target)\n",
    "loss.backward()\n",
    "optimizer.step()    # Does the update"
   ]
  },
  {
   "cell_type": "markdown",
   "metadata": {},
   "source": [
    "观察梯度缓冲区必须手动设置为零,使用函数<br>\n",
    "__optimizer.zero_grad()__. 这是因为梯度是累积的<br>\n",
    "正如`Backprop`小节所说的.<br>\n",
    "\n"
   ]
  }
 ],
 "metadata": {
  "kernelspec": {
   "display_name": "Python 3",
   "language": "python",
   "name": "python3"
  },
  "language_info": {
   "codemirror_mode": {
    "name": "ipython",
    "version": 3
   },
   "file_extension": ".py",
   "mimetype": "text/x-python",
   "name": "python",
   "nbconvert_exporter": "python",
   "pygments_lexer": "ipython3",
   "version": "3.6.8"
  }
 },
 "nbformat": 4,
 "nbformat_minor": 1
}
